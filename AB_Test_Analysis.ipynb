{
 "cells": [
  {
   "cell_type": "markdown",
   "id": "fb28de63",
   "metadata": {},
   "source": [
    "\n",
    "# Анализ A/B-тестирования рекламной кампании\n",
    "\n",
    "Целью данного исследования является оценка эффективности рекламной кампании и анализ факторов, которые могли повлиять на успех.\n",
    "Мы будем отвечать на два бизнес-вопроса:\n",
    "\n",
    "1. Будет ли кампания успешной?\n",
    "2. Насколько успех кампании можно объяснить именно рекламой?\n",
    "\n",
    "Данные представлены в файле `marketing_AB.csv`.\n"
   ]
  },
  {
   "cell_type": "markdown",
   "id": "561d694b",
   "metadata": {},
   "source": [
    "## Загрузка и оценка датасета"
   ]
  },
  {
   "cell_type": "code",
   "execution_count": 2,
   "id": "a9e5deff",
   "metadata": {},
   "outputs": [
    {
     "name": "stdout",
     "output_type": "stream",
     "text": [
      "<class 'pandas.core.frame.DataFrame'>\n",
      "RangeIndex: 588101 entries, 0 to 588100\n",
      "Data columns (total 7 columns):\n",
      " #   Column         Non-Null Count   Dtype \n",
      "---  ------         --------------   ----- \n",
      " 0   Unnamed: 0     588101 non-null  int64 \n",
      " 1   user id        588101 non-null  int64 \n",
      " 2   test group     588101 non-null  object\n",
      " 3   converted      588101 non-null  bool  \n",
      " 4   total ads      588101 non-null  int64 \n",
      " 5   most ads day   588101 non-null  object\n",
      " 6   most ads hour  588101 non-null  int64 \n",
      "dtypes: bool(1), int64(4), object(2)\n",
      "memory usage: 27.5+ MB\n"
     ]
    },
    {
     "data": {
      "text/html": [
       "<div>\n",
       "<style scoped>\n",
       "    .dataframe tbody tr th:only-of-type {\n",
       "        vertical-align: middle;\n",
       "    }\n",
       "\n",
       "    .dataframe tbody tr th {\n",
       "        vertical-align: top;\n",
       "    }\n",
       "\n",
       "    .dataframe thead th {\n",
       "        text-align: right;\n",
       "    }\n",
       "</style>\n",
       "<table border=\"1\" class=\"dataframe\">\n",
       "  <thead>\n",
       "    <tr style=\"text-align: right;\">\n",
       "      <th></th>\n",
       "      <th>Unnamed: 0</th>\n",
       "      <th>user id</th>\n",
       "      <th>test group</th>\n",
       "      <th>converted</th>\n",
       "      <th>total ads</th>\n",
       "      <th>most ads day</th>\n",
       "      <th>most ads hour</th>\n",
       "    </tr>\n",
       "  </thead>\n",
       "  <tbody>\n",
       "    <tr>\n",
       "      <th>0</th>\n",
       "      <td>0</td>\n",
       "      <td>1069124</td>\n",
       "      <td>ad</td>\n",
       "      <td>False</td>\n",
       "      <td>130</td>\n",
       "      <td>Monday</td>\n",
       "      <td>20</td>\n",
       "    </tr>\n",
       "    <tr>\n",
       "      <th>1</th>\n",
       "      <td>1</td>\n",
       "      <td>1119715</td>\n",
       "      <td>ad</td>\n",
       "      <td>False</td>\n",
       "      <td>93</td>\n",
       "      <td>Tuesday</td>\n",
       "      <td>22</td>\n",
       "    </tr>\n",
       "    <tr>\n",
       "      <th>2</th>\n",
       "      <td>2</td>\n",
       "      <td>1144181</td>\n",
       "      <td>ad</td>\n",
       "      <td>False</td>\n",
       "      <td>21</td>\n",
       "      <td>Tuesday</td>\n",
       "      <td>18</td>\n",
       "    </tr>\n",
       "    <tr>\n",
       "      <th>3</th>\n",
       "      <td>3</td>\n",
       "      <td>1435133</td>\n",
       "      <td>ad</td>\n",
       "      <td>False</td>\n",
       "      <td>355</td>\n",
       "      <td>Tuesday</td>\n",
       "      <td>10</td>\n",
       "    </tr>\n",
       "    <tr>\n",
       "      <th>4</th>\n",
       "      <td>4</td>\n",
       "      <td>1015700</td>\n",
       "      <td>ad</td>\n",
       "      <td>False</td>\n",
       "      <td>276</td>\n",
       "      <td>Friday</td>\n",
       "      <td>14</td>\n",
       "    </tr>\n",
       "  </tbody>\n",
       "</table>\n",
       "</div>"
      ],
      "text/plain": [
       "   Unnamed: 0  user id test group  converted  total ads most ads day  \\\n",
       "0           0  1069124         ad      False        130       Monday   \n",
       "1           1  1119715         ad      False         93      Tuesday   \n",
       "2           2  1144181         ad      False         21      Tuesday   \n",
       "3           3  1435133         ad      False        355      Tuesday   \n",
       "4           4  1015700         ad      False        276       Friday   \n",
       "\n",
       "   most ads hour  \n",
       "0             20  \n",
       "1             22  \n",
       "2             18  \n",
       "3             10  \n",
       "4             14  "
      ]
     },
     "execution_count": 2,
     "metadata": {},
     "output_type": "execute_result"
    }
   ],
   "source": [
    "\n",
    "# Импортируем необходимые библиотеки\n",
    "import pandas as pd\n",
    "\n",
    "# Загружаем данные\n",
    "file_path = 'marketing_AB.csv'\n",
    "data = pd.read_csv(file_path)\n",
    "\n",
    "# Выводим общую информацию о данных\n",
    "data.info()\n",
    "\n",
    "# Просматриваем первые строки датасета\n",
    "data.head()\n"
   ]
  },
  {
   "cell_type": "markdown",
   "id": "ea75ae7e",
   "metadata": {},
   "source": [
    "## Первичная оценка датасета\n",
    "\n",
    "Размер набора данных: 588,101 строк и 7 столбцов.\n",
    "\n",
    "Колонки:\n",
    "\n",
    "1) Unnamed: 0: Индекс (можно удалить как ненужный).\n",
    "\n",
    "2) user id: Уникальный идентификатор пользователя.\n",
    "\n",
    "3) test group: Группа тестирования (ad или psa).\n",
    "\n",
    "4) converted: Был ли пользователь конвертирован (логическое значение).\n",
    "\n",
    "5) total ads: Общее количество рекламы, увиденной пользователем.\n",
    "\n",
    "6) most ads day: День недели с максимальным количеством показов рекламы.\n",
    "\n",
    "7) most ads hour: Час с максимальным количеством показов рекламы.\n",
    "\n",
    "Типы данных: Соответствуют назначению, но столбец most ads day следует преобразовать в категориальный тип.\n",
    "\n",
    "Пропусков нет.\n",
    "\n",
    "Дубликаты пользователей: Проверка необходима, чтобы исключить пересечение групп."
   ]
  },
  {
   "cell_type": "markdown",
   "id": "a7c8b1c6",
   "metadata": {},
   "source": [
    "## Предобработка данных"
   ]
  },
  {
   "cell_type": "code",
   "execution_count": 3,
   "id": "19cde119",
   "metadata": {},
   "outputs": [
    {
     "name": "stdout",
     "output_type": "stream",
     "text": [
      "<class 'pandas.core.frame.DataFrame'>\n",
      "RangeIndex: 588101 entries, 0 to 588100\n",
      "Data columns (total 6 columns):\n",
      " #   Column         Non-Null Count   Dtype   \n",
      "---  ------         --------------   -----   \n",
      " 0   user id        588101 non-null  int64   \n",
      " 1   test group     588101 non-null  object  \n",
      " 2   converted      588101 non-null  bool    \n",
      " 3   total ads      588101 non-null  int64   \n",
      " 4   most ads day   588101 non-null  category\n",
      " 5   most ads hour  588101 non-null  int64   \n",
      "dtypes: bool(1), category(1), int64(3), object(1)\n",
      "memory usage: 19.1+ MB\n"
     ]
    }
   ],
   "source": [
    "\n",
    "# Удаляем ненужный столбец \"Unnamed: 0\"\n",
    "data = data.drop(columns=[\"Unnamed: 0\"])\n",
    "\n",
    "# Проверяем, есть ли пользователи, попавшие в обе группы\n",
    "overlap_users = data.groupby(\"user id\")[\"test group\"].nunique()\n",
    "overlap_users = overlap_users[overlap_users > 1].index\n",
    "\n",
    "# Удаляем пользователей из обеих групп, если такие есть\n",
    "cleaned_data = data[~data[\"user id\"].isin(overlap_users)]\n",
    "\n",
    "# Преобразуем \"most ads day\" в категориальный тип данных\n",
    "cleaned_data[\"most ads day\"] = cleaned_data[\"most ads day\"].astype(\"category\")\n",
    "\n",
    "# Проверяем результат предобработки\n",
    "cleaned_data.info()\n"
   ]
  },
  {
   "cell_type": "markdown",
   "id": "ca70562f",
   "metadata": {},
   "source": [
    "\n",
    "## Выводы по предобработке данных\n",
    "\n",
    "1. Удален лишний столбец `Unnamed: 0`.\n",
    "2. Проверено наличие пользователей, попавших в обе группы; таких пользователей не обнаружено.\n",
    "3. Преобразован тип данных для столбца `most ads day` в категориальный.\n",
    "\n",
    "Данные готовы для дальнейшего анализа.\n"
   ]
  },
  {
   "cell_type": "markdown",
   "id": "8c4fc973",
   "metadata": {},
   "source": [
    "## Первичный анализ A/B-тестирования"
   ]
  },
  {
   "cell_type": "code",
   "execution_count": 4,
   "id": "cafee0db",
   "metadata": {},
   "outputs": [
    {
     "data": {
      "text/html": [
       "<div>\n",
       "<style scoped>\n",
       "    .dataframe tbody tr th:only-of-type {\n",
       "        vertical-align: middle;\n",
       "    }\n",
       "\n",
       "    .dataframe tbody tr th {\n",
       "        vertical-align: top;\n",
       "    }\n",
       "\n",
       "    .dataframe thead th {\n",
       "        text-align: right;\n",
       "    }\n",
       "</style>\n",
       "<table border=\"1\" class=\"dataframe\">\n",
       "  <thead>\n",
       "    <tr style=\"text-align: right;\">\n",
       "      <th></th>\n",
       "      <th>test group</th>\n",
       "      <th>total_visits</th>\n",
       "      <th>total_conversions</th>\n",
       "      <th>conversion_rate</th>\n",
       "    </tr>\n",
       "  </thead>\n",
       "  <tbody>\n",
       "    <tr>\n",
       "      <th>0</th>\n",
       "      <td>ad</td>\n",
       "      <td>564577</td>\n",
       "      <td>14423</td>\n",
       "      <td>0.025547</td>\n",
       "    </tr>\n",
       "    <tr>\n",
       "      <th>1</th>\n",
       "      <td>psa</td>\n",
       "      <td>23524</td>\n",
       "      <td>420</td>\n",
       "      <td>0.017854</td>\n",
       "    </tr>\n",
       "  </tbody>\n",
       "</table>\n",
       "</div>"
      ],
      "text/plain": [
       "  test group  total_visits  total_conversions  conversion_rate\n",
       "0         ad        564577              14423         0.025547\n",
       "1        psa         23524                420         0.017854"
      ]
     },
     "execution_count": 4,
     "metadata": {},
     "output_type": "execute_result"
    }
   ],
   "source": [
    "\n",
    "# Расчет основных показателей по группам\n",
    "group_metrics = cleaned_data.groupby(\"test group\").agg(\n",
    "    total_visits=(\"user id\", \"count\"),\n",
    "    total_conversions=(\"converted\", \"sum\")\n",
    ").reset_index()\n",
    "\n",
    "# Расчет коэффициента конверсии\n",
    "group_metrics[\"conversion_rate\"] = group_metrics[\"total_conversions\"] / group_metrics[\"total_visits\"]\n",
    "\n",
    "# Выводим метрики\n",
    "group_metrics\n"
   ]
  },
  {
   "cell_type": "markdown",
   "id": "6a1007af",
   "metadata": {},
   "source": [
    "## Рассчет дополнительных ключевых показателей\n",
    "\n",
    "Среднее количество рекламы, увиденной пользователем в каждой группе.\n",
    "Сравним результаты групп на основе уровня конверсии и количества увиденной рекламы.\n",
    "После этого выполним статистический анализ для проверки значимости различий между группами."
   ]
  },
  {
   "cell_type": "code",
   "execution_count": 8,
   "id": "8efe09c6",
   "metadata": {},
   "outputs": [
    {
     "data": {
      "text/html": [
       "<div>\n",
       "<style scoped>\n",
       "    .dataframe tbody tr th:only-of-type {\n",
       "        vertical-align: middle;\n",
       "    }\n",
       "\n",
       "    .dataframe tbody tr th {\n",
       "        vertical-align: top;\n",
       "    }\n",
       "\n",
       "    .dataframe thead th {\n",
       "        text-align: right;\n",
       "    }\n",
       "</style>\n",
       "<table border=\"1\" class=\"dataframe\">\n",
       "  <thead>\n",
       "    <tr style=\"text-align: right;\">\n",
       "      <th></th>\n",
       "      <th>test group</th>\n",
       "      <th>total_visits</th>\n",
       "      <th>total_conversions</th>\n",
       "      <th>conversion_rate</th>\n",
       "      <th>avg_ads_seen</th>\n",
       "    </tr>\n",
       "  </thead>\n",
       "  <tbody>\n",
       "    <tr>\n",
       "      <th>0</th>\n",
       "      <td>ad</td>\n",
       "      <td>564577</td>\n",
       "      <td>14423</td>\n",
       "      <td>0.025547</td>\n",
       "      <td>24.823365</td>\n",
       "    </tr>\n",
       "    <tr>\n",
       "      <th>1</th>\n",
       "      <td>psa</td>\n",
       "      <td>23524</td>\n",
       "      <td>420</td>\n",
       "      <td>0.017854</td>\n",
       "      <td>24.761138</td>\n",
       "    </tr>\n",
       "  </tbody>\n",
       "</table>\n",
       "</div>"
      ],
      "text/plain": [
       "  test group  total_visits  total_conversions  conversion_rate  avg_ads_seen\n",
       "0         ad        564577              14423         0.025547     24.823365\n",
       "1        psa         23524                420         0.017854     24.761138"
      ]
     },
     "execution_count": 8,
     "metadata": {},
     "output_type": "execute_result"
    }
   ],
   "source": [
    "\n",
    "# Рассчитываем среднее количество увиденной рекламы\n",
    "group_ads_metrics = cleaned_data.groupby(\"test group\").agg(\n",
    "    avg_ads_seen=(\"total ads\", \"mean\")\n",
    ").reset_index()\n",
    "\n",
    "# Объединяем результаты для анализа\n",
    "group_analysis = group_metrics.merge(group_ads_metrics, on=\"test group\")\n",
    "\n",
    "# Выводим подробный анализ\n",
    "group_analysis\n"
   ]
  },
  {
   "cell_type": "markdown",
   "id": "7da5d900",
   "metadata": {},
   "source": []
  },
  {
   "cell_type": "code",
   "execution_count": 6,
   "id": "fc68401a",
   "metadata": {},
   "outputs": [
    {
     "data": {
      "image/png": "[encoded data removed]",
      "text/plain": [
       "<Figure size 800x600 with 1 Axes>"
      ]
     },
     "metadata": {},
     "output_type": "display_data"
    }
   ],
   "source": [
    "\n",
    "import matplotlib.pyplot as plt\n",
    "\n",
    "# Строим график конверсий\n",
    "conversion_data = cleaned_data.groupby(\"test group\")[\"converted\"].mean()\n",
    "conversion_data.plot(kind=\"bar\", figsize=(8, 6))\n",
    "\n",
    "# Добавляем подписи\n",
    "plt.title(\"Конверсии по группам\", fontsize=16)\n",
    "plt.ylabel(\"Уровень конверсии\", fontsize=14)\n",
    "plt.xlabel(\"Группа\", fontsize=14)\n",
    "plt.xticks(rotation=0)\n",
    "plt.grid(axis=\"y\", linestyle=\"--\", alpha=0.7)\n",
    "plt.show()\n"
   ]
  },
  {
   "cell_type": "markdown",
   "id": "07763e76",
   "metadata": {},
   "source": [
    "## Выводы на основе визуализации:\n",
    "\n",
    "1. **Группа \"ad\" (реклама):**\n",
    "   - Уровень конверсии заметно выше, чем в группе \"psa\".\n",
    "   - Это подтверждает, что реклама имеет положительное влияние на решение пользователей о покупке.\n",
    "\n",
    "2. **Группа \"psa\" (контроль):**\n",
    "   - Конверсия ниже, что ожидаемо, так как пользователи не видели коммерческую рекламу, а только сообщение государственной службы.\n",
    "\n",
    "3. **Разница между группами:**\n",
    "   - Визуализация четко подчеркивает статистически значимую разницу между группами, что согласуется с результатами анализа и доверительных интервалов.\n",
    "\n",
    "**Вывод:**\n",
    "Реклама эффективно стимулирует пользователей к покупке, а её влияние подтверждено как визуально, так и статистически. Данный результат можно использовать для оптимизации будущих кампаний. "
   ]
  },
  {
   "cell_type": "markdown",
   "id": "da2f0c19",
   "metadata": {},
   "source": [
    "## Расчет статистических показателей"
   ]
  },
  {
   "cell_type": "code",
   "execution_count": 7,
   "id": "7de70e31",
   "metadata": {},
   "outputs": [
    {
     "data": {
      "text/plain": [
       "{'Conversion Rate Test': {'z_stat': np.float64(7.3700781265454145),\n",
       "  'p_value': np.float64(1.7052807161559727e-13),\n",
       "  'ci_diff': (np.float64(0.00595090043017032),\n",
       "   np.float64(0.009434005954232714))},\n",
       " 'Average Ads Seen Test': {'t_stat': np.float64(0.21799691449238462),\n",
       "  'p_value': np.float64(0.8274332524963),\n",
       "  'ci_diff': (np.float64(-0.4972573582431241),\n",
       "   np.float64(0.6217124418276032))}}"
      ]
     },
     "execution_count": 7,
     "metadata": {},
     "output_type": "execute_result"
    }
   ],
   "source": [
    "\n",
    "from statsmodels.stats.proportion import proportions_ztest\n",
    "from scipy.stats import ttest_ind\n",
    "import numpy as np\n",
    "\n",
    "# Группы для анализа\n",
    "ad_group = cleaned_data[cleaned_data[\"test group\"] == \"ad\"]\n",
    "psa_group = cleaned_data[cleaned_data[\"test group\"] == \"psa\"]\n",
    "\n",
    "# Тест на конверсию\n",
    "conversion_counts = [ad_group[\"converted\"].sum(), psa_group[\"converted\"].sum()]\n",
    "conversion_totals = [ad_group[\"converted\"].count(), psa_group[\"converted\"].count()]\n",
    "z_stat_conversion, p_value_conversion = proportions_ztest(conversion_counts, conversion_totals)\n",
    "\n",
    "# Тест на количество рекламы\n",
    "t_stat_ads, p_value_ads = ttest_ind(ad_group[\"total ads\"], psa_group[\"total ads\"], equal_var=False)\n",
    "\n",
    "# Доверительные интервалы\n",
    "conversion_rate_diff = ad_group[\"converted\"].mean() - psa_group[\"converted\"].mean()\n",
    "se_conversion_diff = np.sqrt(\n",
    "    (ad_group[\"converted\"].mean() * (1 - ad_group[\"converted\"].mean()) / len(ad_group)) +\n",
    "    (psa_group[\"converted\"].mean() * (1 - psa_group[\"converted\"].mean()) / len(psa_group))\n",
    ")\n",
    "ci_conversion_diff = (\n",
    "    conversion_rate_diff - 1.96 * se_conversion_diff,\n",
    "    conversion_rate_diff + 1.96 * se_conversion_diff\n",
    ")\n",
    "\n",
    "mean_ads_diff = ad_group[\"total ads\"].mean() - psa_group[\"total ads\"].mean()\n",
    "se_ads_diff = np.sqrt(\n",
    "    ad_group[\"total ads\"].var() / len(ad_group) +\n",
    "    psa_group[\"total ads\"].var() / len(psa_group)\n",
    ")\n",
    "ci_ads_diff = (\n",
    "    mean_ads_diff - 1.96 * se_ads_diff,\n",
    "    mean_ads_diff + 1.96 * se_ads_diff\n",
    ")\n",
    "\n",
    "# Результаты\n",
    "{\n",
    "    \"Conversion Rate Test\": {\"z_stat\": z_stat_conversion, \"p_value\": p_value_conversion, \"ci_diff\": ci_conversion_diff},\n",
    "    \"Average Ads Seen Test\": {\"t_stat\": t_stat_ads, \"p_value\": p_value_ads, \"ci_diff\": ci_ads_diff}\n",
    "}\n"
   ]
  },
  {
   "cell_type": "markdown",
   "id": "c3f59a48",
   "metadata": {},
   "source": [
    "## Результаты статистического анализа:\n",
    "\n",
    "1. **Конверсия:**\n",
    "   - \\( z \\)-статистика: \\( 7.37 \\)\n",
    "   - \\( p \\)-значение: \\( 1.7 \\times 10^{-13} \\) (очень низкое, что говорит о статистически значимой разнице)\n",
    "   - 95% доверительный интервал для разницы конверсий: \\( (0.00595, 0.00943) \\).\n",
    "\n",
    "   Это указывает на то, что группа с рекламой имеет статистически более высокий уровень конверсии.\n",
    "\n",
    "2. **Среднее количество увиденной рекламы:**\n",
    "   - \\( t \\)-статистика: \\( 0.218 \\)\n",
    "   - \\( p \\)-значение: \\( 0.827 \\) (высокое, что говорит об отсутствии значимой разницы).\n",
    "   - 95% доверительный интервал для разницы: \\( (-0.497, 0.622) \\).\n",
    "\n",
    "   Разница в количестве увиденной рекламы между группами статистически незначима.\n",
    "\n",
    "## Интерпретация результатов в контексте бизнес-вопросов:\n",
    "\n",
    "### 1. **Будет ли кампания успешной?**\n",
    "   - Конверсия в группе с рекламой (\\( \\text{ad} \\)) значительно выше, чем в группе с государственной службой (\\( \\text{psa} \\)). \n",
    "   - 95% доверительный интервал разницы в конверсии (\\( 0.00595 \\) до \\( 0.00943 \\)) не пересекает ноль, что подтверждает статистически значимую разницу. Это говорит о том, что реклама оказывает положительное влияние на продажи.\n",
    "\n",
    "   **Вывод:** Кампания будет успешной, так как реклама способствует увеличению конверсии.\n",
    "\n",
    "### 2. **Насколько успех кампании можно объяснить рекламой?**\n",
    "   - Среднее количество увиденной рекламы в группах \\( \\text{ad} \\) и \\( \\text{psa} \\) практически идентично, и \\( p \\)-значение (\\( 0.827 \\)) подтверждает отсутствие статистически значимой разницы. Это говорит о том, что эффект рекламы связан не с количеством показов, а, скорее, с качеством самих рекламных материалов.\n",
    "\n",
    "   **Вывод:** Успех кампании связан именно с влиянием рекламы на поведение пользователей, а не с количеством её показов.\n",
    "\n",
    "---\n",
    "\n",
    "### Рекомендации:\n",
    "1. Продолжать использовать данный формат рекламы, так как она доказала свою эффективность.\n",
    "2. Провести дополнительные исследования, чтобы понять, какие аспекты рекламы оказывают наибольшее влияние на конверсию (визуал, текст, таргетинг и т. д.).\n",
    "3. Оценить экономический эффект от кампании, сравнив увеличение конверсии с затратами на рекламу.\n"
   ]
  }
 ],
 "metadata": {
  "kernelspec": {
   "display_name": "Python 3",
   "language": "python",
   "name": "python3"
  },
  "language_info": {
   "codemirror_mode": {
    "name": "ipython",
    "version": 3
   },
   "file_extension": ".py",
   "mimetype": "text/x-python",
   "name": "python",
   "nbconvert_exporter": "python",
   "pygments_lexer": "ipython3",
   "version": "3.13.1"
  }
 },
 "nbformat": 4,
 "nbformat_minor": 5
}
