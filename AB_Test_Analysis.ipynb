{
 "cells": [
  {
   "cell_type": "markdown",
   "id": "fb28de63",
   "metadata": {},
   "source": [
    "\n",
    "# Анализ A/B-тестирования рекламной кампании\n",
    "\n",
    "Целью данного исследования является оценка эффективности рекламной кампании и анализ факторов, которые могли повлиять на успех.\n",
    "Мы будем отвечать на два бизнес-вопроса:\n",
    "\n",
    "1. Будет ли кампания успешной?\n",
    "2. Насколько успех кампании можно объяснить именно рекламой?\n",
    "\n",
    "Данные представлены в файле `marketing_AB.csv`.\n"
   ]
  },
  {
   "cell_type": "code",
   "execution_count": null,
   "id": "a9e5deff",
   "metadata": {},
   "outputs": [],
   "source": [
    "\n",
    "# Импортируем необходимые библиотеки\n",
    "import pandas as pd\n",
    "\n",
    "# Загружаем данные\n",
    "file_path = 'marketing_AB.csv'\n",
    "data = pd.read_csv(file_path)\n",
    "\n",
    "# Выводим общую информацию о данных\n",
    "data.info()\n",
    "\n",
    "# Просматриваем первые строки датасета\n",
    "data.head()\n"
   ]
  },
  {
   "cell_type": "code",
   "execution_count": null,
   "id": "19cde119",
   "metadata": {},
   "outputs": [],
   "source": [
    "\n",
    "# Удаляем ненужный столбец \"Unnamed: 0\"\n",
    "data = data.drop(columns=[\"Unnamed: 0\"])\n",
    "\n",
    "# Проверяем, есть ли пользователи, попавшие в обе группы\n",
    "overlap_users = data.groupby(\"user id\")[\"test group\"].nunique()\n",
    "overlap_users = overlap_users[overlap_users > 1].index\n",
    "\n",
    "# Удаляем пользователей из обеих групп, если такие есть\n",
    "cleaned_data = data[~data[\"user id\"].isin(overlap_users)]\n",
    "\n",
    "# Преобразуем \"most ads day\" в категориальный тип данных\n",
    "cleaned_data[\"most ads day\"] = cleaned_data[\"most ads day\"].astype(\"category\")\n",
    "\n",
    "# Проверяем результат предобработки\n",
    "cleaned_data.info()\n"
   ]
  },
  {
   "cell_type": "markdown",
   "id": "ca70562f",
   "metadata": {},
   "source": [
    "\n",
    "## Выводы по предобработке данных\n",
    "\n",
    "1. Удален лишний столбец `Unnamed: 0`.\n",
    "2. Проверено наличие пользователей, попавших в обе группы; таких пользователей не обнаружено.\n",
    "3. Преобразован тип данных для столбца `most ads day` в категориальный.\n",
    "\n",
    "Данные готовы для дальнейшего анализа.\n"
   ]
  },
  {
   "cell_type": "code",
   "execution_count": null,
   "id": "cafee0db",
   "metadata": {},
   "outputs": [],
   "source": [
    "\n",
    "# Расчет основных показателей по группам\n",
    "group_metrics = cleaned_data.groupby(\"test group\").agg(\n",
    "    total_visits=(\"user id\", \"count\"),\n",
    "    total_conversions=(\"converted\", \"sum\")\n",
    ").reset_index()\n",
    "\n",
    "# Расчет коэффициента конверсии\n",
    "group_metrics[\"conversion_rate\"] = group_metrics[\"total_conversions\"] / group_metrics[\"total_visits\"]\n",
    "\n",
    "# Выводим метрики\n",
    "group_metrics\n"
   ]
  },
  {
   "cell_type": "code",
   "execution_count": null,
   "id": "8efe09c6",
   "metadata": {},
   "outputs": [],
   "source": [
    "\n",
    "# Рассчитываем среднее количество увиденной рекламы\n",
    "group_ads_metrics = cleaned_data.groupby(\"test group\").agg(\n",
    "    avg_ads_seen=(\"total ads\", \"mean\")\n",
    ").reset_index()\n",
    "\n",
    "# Объединяем результаты для анализа\n",
    "group_analysis = group_metrics.merge(group_ads_metrics, on=\"test group\")\n",
    "\n",
    "# Выводим подробный анализ\n",
    "group_analysis\n"
   ]
  },
  {
   "cell_type": "code",
   "execution_count": null,
   "id": "fc68401a",
   "metadata": {},
   "outputs": [],
   "source": [
    "\n",
    "import matplotlib.pyplot as plt\n",
    "\n",
    "# Строим график конверсий\n",
    "conversion_data = cleaned_data.groupby(\"test group\")[\"converted\"].mean()\n",
    "conversion_data.plot(kind=\"bar\", figsize=(8, 6))\n",
    "\n",
    "# Добавляем подписи\n",
    "plt.title(\"Конверсии по группам\", fontsize=16)\n",
    "plt.ylabel(\"Уровень конверсии\", fontsize=14)\n",
    "plt.xlabel(\"Группа\", fontsize=14)\n",
    "plt.xticks(rotation=0)\n",
    "plt.grid(axis=\"y\", linestyle=\"--\", alpha=0.7)\n",
    "plt.show()\n"
   ]
  },
  {
   "cell_type": "markdown",
   "id": "1cfaa34f",
   "metadata": {},
   "source": [
    "\n",
    "## Выводы первичного анализа\n",
    "\n",
    "1. Уровень конверсии значительно выше в группе \"ad\" (реклама), чем в группе \"psa\" (контроль).\n",
    "2. Среднее количество увиденной рекламы в обеих группах примерно одинаково.\n",
    "3. Визуализация подтверждает значительную разницу в уровнях конверсии между группами.\n"
   ]
  },
  {
   "cell_type": "code",
   "execution_count": null,
   "id": "7de70e31",
   "metadata": {},
   "outputs": [],
   "source": [
    "\n",
    "from statsmodels.stats.proportion import proportions_ztest\n",
    "from scipy.stats import ttest_ind\n",
    "import numpy as np\n",
    "\n",
    "# Группы для анализа\n",
    "ad_group = cleaned_data[cleaned_data[\"test group\"] == \"ad\"]\n",
    "psa_group = cleaned_data[cleaned_data[\"test group\"] == \"psa\"]\n",
    "\n",
    "# Тест на конверсию\n",
    "conversion_counts = [ad_group[\"converted\"].sum(), psa_group[\"converted\"].sum()]\n",
    "conversion_totals = [ad_group[\"converted\"].count(), psa_group[\"converted\"].count()]\n",
    "z_stat_conversion, p_value_conversion = proportions_ztest(conversion_counts, conversion_totals)\n",
    "\n",
    "# Тест на количество рекламы\n",
    "t_stat_ads, p_value_ads = ttest_ind(ad_group[\"total ads\"], psa_group[\"total ads\"], equal_var=False)\n",
    "\n",
    "# Доверительные интервалы\n",
    "conversion_rate_diff = ad_group[\"converted\"].mean() - psa_group[\"converted\"].mean()\n",
    "se_conversion_diff = np.sqrt(\n",
    "    (ad_group[\"converted\"].mean() * (1 - ad_group[\"converted\"].mean()) / len(ad_group)) +\n",
    "    (psa_group[\"converted\"].mean() * (1 - psa_group[\"converted\"].mean()) / len(psa_group))\n",
    ")\n",
    "ci_conversion_diff = (\n",
    "    conversion_rate_diff - 1.96 * se_conversion_diff,\n",
    "    conversion_rate_diff + 1.96 * se_conversion_diff\n",
    ")\n",
    "\n",
    "mean_ads_diff = ad_group[\"total ads\"].mean() - psa_group[\"total ads\"].mean()\n",
    "se_ads_diff = np.sqrt(\n",
    "    ad_group[\"total ads\"].var() / len(ad_group) +\n",
    "    psa_group[\"total ads\"].var() / len(psa_group)\n",
    ")\n",
    "ci_ads_diff = (\n",
    "    mean_ads_diff - 1.96 * se_ads_diff,\n",
    "    mean_ads_diff + 1.96 * se_ads_diff\n",
    ")\n",
    "\n",
    "# Результаты\n",
    "{\n",
    "    \"Conversion Rate Test\": {\"z_stat\": z_stat_conversion, \"p_value\": p_value_conversion, \"ci_diff\": ci_conversion_diff},\n",
    "    \"Average Ads Seen Test\": {\"t_stat\": t_stat_ads, \"p_value\": p_value_ads, \"ci_diff\": ci_ads_diff}\n",
    "}\n"
   ]
  },
  {
   "cell_type": "markdown",
   "id": "c3f59a48",
   "metadata": {},
   "source": [
    "\n",
    "## Выводы статистического анализа\n",
    "\n",
    "1. **Конверсии:** Разница между уровнями конверсии статистически значима (\\( p \\)-значение значительно ниже 0.05).\n",
    "2. **Среднее количество рекламы:** Разница статистически незначима (\\( p \\)-значение выше 0.05).\n",
    "3. 95%-ные доверительные интервалы подтверждают эти результаты.\n",
    "\n",
    "### Общий вывод\n",
    "Реклама доказала свою эффективность, так как значительно увеличивает уровень конверсии.\n"
   ]
  }
 ],
 "metadata": {
  "language_info": {
   "name": "python"
  }
 },
 "nbformat": 4,
 "nbformat_minor": 5
}
